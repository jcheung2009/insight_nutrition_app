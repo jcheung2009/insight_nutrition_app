{
 "cells": [
  {
   "cell_type": "code",
   "execution_count": 2,
   "metadata": {},
   "outputs": [],
   "source": [
    "import re\n",
    "import requests\n",
    "from bs4 import BeautifulSoup\n",
    "import time\n",
    "import pandas as pd\n",
    "import numpy as np\n",
    "from recipe_scrapers import scrape_me #from https://github.com/hhursev/recipe-scrapers"
   ]
  },
  {
   "cell_type": "code",
   "execution_count": 12,
   "metadata": {},
   "outputs": [],
   "source": [
    "#get recipe names and links \n",
    "db = pd.read_csv('allrecipes_nutr_ratingsdb.csv')"
   ]
  },
  {
   "cell_type": "code",
   "execution_count": 45,
   "metadata": {},
   "outputs": [
    {
     "name": "stdout",
     "output_type": "stream",
     "text": [
      "finished with iter 4000\n",
      "finished with iter 4100\n",
      "finished with iter 4200\n",
      "finished with iter 4300\n",
      "finished with iter 4400\n",
      "finished with iter 4500\n",
      "finished with iter 4600\n",
      "finished with iter 4700\n",
      "finished with iter 4800\n"
     ]
    }
   ],
   "source": [
    "#for each recipe, scrape the ingredient list\n",
    "errorID = []\n",
    "ingredients = np.array([])\n",
    "labels = np.array([])\n",
    "for num in range(4000,len(db)):\n",
    "    url = db.iloc[num]['links']\n",
    "    try:\n",
    "        results = scrape_me(url)\n",
    "        ingredients = np.append(ingredients,results.ingredients())\n",
    "        labels = np.append(labels,np.repeat(db.iloc[num]['recipename'],len(results.ingredients())))\n",
    "    except:\n",
    "        errorID.append(num)\n",
    "        print('request error on iter',num)\n",
    "    \n",
    "    if num % 100 == 0:\n",
    "        print('finished with iter',num)\n",
    "    \n",
    "    time.sleep(1)\n",
    "    \n",
    "allrecipes_ingreds_db = pd.DataFrame(ingredients,index=labels,columns=['ingredients'])\n",
    "allrecipes_ingreds_db.to_csv('allrecipes_ingreds_db_4000to4800.csv')"
   ]
  },
  {
   "cell_type": "code",
   "execution_count": 4,
   "metadata": {},
   "outputs": [],
   "source": [
    "allrecipes_ingreds_db = pd.concat([pd.read_csv('allrecipes_ingreds_db_0to1000.csv'),pd.read_csv('allrecipes_ingreds_db_1000to2000.csv'),\n",
    "                                 pd.read_csv('allrecipes_ingreds_db_2000to3000.csv'),pd.read_csv('allrecipes_ingreds_db_3000to4000.csv'),\n",
    "                                 pd.read_csv('allrecipes_ingreds_db_4000to4800.csv')])"
   ]
  },
  {
   "cell_type": "code",
   "execution_count": 11,
   "metadata": {},
   "outputs": [],
   "source": [
    "allrecipes_ingreds_db = allrecipes_ingreds_db.rename(columns={'Unnamed: 0':'recipename'})"
   ]
  },
  {
   "cell_type": "code",
   "execution_count": 12,
   "metadata": {},
   "outputs": [],
   "source": [
    "allrecipes_ingreds_db.to_csv('allrecipes_ingreds_db_all.csv')"
   ]
  }
 ],
 "metadata": {
  "kernelspec": {
   "display_name": "Python [conda env:insight]",
   "language": "python",
   "name": "conda-env-insight-py"
  },
  "language_info": {
   "codemirror_mode": {
    "name": "ipython",
    "version": 3
   },
   "file_extension": ".py",
   "mimetype": "text/x-python",
   "name": "python",
   "nbconvert_exporter": "python",
   "pygments_lexer": "ipython3",
   "version": "3.6.5"
  }
 },
 "nbformat": 4,
 "nbformat_minor": 2
}
